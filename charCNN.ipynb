{
 "cells": [
  {
   "cell_type": "code",
   "execution_count": 4,
   "metadata": {},
   "outputs": [
    {
     "name": "stderr",
     "output_type": "stream",
     "text": [
      "Using TensorFlow backend.\n"
     ]
    }
   ],
   "source": [
    "import pandas as pd\n",
    "import numpy as np\n",
    "import matplotlib.pyplot as plt\n",
    "import seaborn as sns\n",
    "from sklearn.model_selection import train_test_split\n",
    "from sklearn.preprocessing import LabelEncoder\n",
    "from keras.models import Model\n",
    "from keras.layers import LSTM, Activation, Dense, Dropout, Input, Embedding, Flatten, Conv2D, MaxPool2D, Conv1D, MaxPool1D, GlobalAveragePooling1D\n",
    "from keras.optimizers import RMSprop\n",
    "from keras.preprocessing.text import Tokenizer\n",
    "from keras.preprocessing import sequence\n",
    "from keras.utils import to_categorical\n",
    "from keras.callbacks import EarlyStopping\n",
    "import re\n",
    "%matplotlib inline"
   ]
  },
  {
   "cell_type": "code",
   "execution_count": 5,
   "metadata": {},
   "outputs": [],
   "source": [
    "data1 = pd.read_csv(\"political.csv\")"
   ]
  },
  {
   "cell_type": "code",
   "execution_count": 6,
   "metadata": {},
   "outputs": [],
   "source": [
    "data2 = pd.read_csv(\"genuine.csv\")"
   ]
  },
  {
   "cell_type": "code",
   "execution_count": 7,
   "metadata": {},
   "outputs": [],
   "source": [
    "data1Sample = data1.sample(frac = 0.1)\n",
    "data2Sample = data2.sample(frac = 0.1)"
   ]
  },
  {
   "cell_type": "code",
   "execution_count": 8,
   "metadata": {},
   "outputs": [],
   "source": [
    "dataFull = data1Sample.append(data2Sample, ignore_index=True, sort=False)"
   ]
  },
  {
   "cell_type": "code",
   "execution_count": 9,
   "metadata": {},
   "outputs": [
    {
     "name": "stdout",
     "output_type": "stream",
     "text": [
      "<class 'pandas.core.frame.DataFrame'>\n",
      "RangeIndex: 14850 entries, 0 to 14849\n",
      "Data columns (total 3 columns):\n",
      "content    14850 non-null object\n",
      "label      14850 non-null int64\n",
      "count      14850 non-null int64\n",
      "dtypes: int64(2), object(1)\n",
      "memory usage: 348.1+ KB\n"
     ]
    }
   ],
   "source": [
    "dataFull.info()"
   ]
  },
  {
   "cell_type": "code",
   "execution_count": 10,
   "metadata": {},
   "outputs": [],
   "source": [
    "X = dataFull.content.astype(str)\n",
    "Y = dataFull.label\n",
    "le = LabelEncoder()\n",
    "Y = le.fit_transform(Y)\n",
    "Y = Y.reshape(-1,1)"
   ]
  },
  {
   "cell_type": "code",
   "execution_count": 11,
   "metadata": {},
   "outputs": [],
   "source": [
    "X_train,X_test,Y_train,Y_test = train_test_split(X,Y,test_size=0.15)\n",
    "x_train = []\n",
    "for each in X_train:\n",
    "    x_train.append(each)\n",
    "x_test = []\n",
    "for each in X_test:\n",
    "    x_test.append(each)"
   ]
  },
  {
   "cell_type": "code",
   "execution_count": 12,
   "metadata": {},
   "outputs": [],
   "source": [
    "encoded_matrix = []\n",
    "for i in range(0,len(x_train)):\n",
    "    x_train[i] = x_train[i].lower()\n",
    "    x_train[i] = re.sub(\"[^a-z]\", \"\", x_train[i])\n",
    "    sentence = x_train[0]\n",
    "    encoding = np.zeros((150,26))\n",
    "    for i in range(0,len(sentence)):\n",
    "        encoding[i][ord(sentence[i])-97] = 1\n",
    "    encoded_matrix.append(encoding)"
   ]
  },
  {
   "cell_type": "code",
   "execution_count": 13,
   "metadata": {},
   "outputs": [],
   "source": [
    "matrix = np.stack(encoded_matrix)\n",
    "matrix = matrix.reshape(matrix.shape[0], 150,26, 1)"
   ]
  },
  {
   "cell_type": "code",
   "execution_count": 14,
   "metadata": {},
   "outputs": [
    {
     "data": {
      "text/plain": [
       "(12622, 150, 26, 1)"
      ]
     },
     "execution_count": 14,
     "metadata": {},
     "output_type": "execute_result"
    }
   ],
   "source": [
    "np.shape(matrix)"
   ]
  },
  {
   "cell_type": "code",
   "execution_count": 15,
   "metadata": {},
   "outputs": [],
   "source": [
    "def CharCNN():\n",
    "    inputs = Input(name='inputs',shape=[150,26,1])\n",
    "    layer = Conv2D(32, kernel_size=(5, 5), strides=(1, 1), activation='relu', input_shape=[150,26]) (inputs)\n",
    "    layer = MaxPool2D(pool_size=(2, 2), strides=(2, 2)) (layer)\n",
    "    layer = Conv2D(64, kernel_size=(5, 5), strides=(1, 1), activation='relu', input_shape=[150,26]) (inputs)\n",
    "    layer = MaxPool2D(pool_size=(2, 2), strides=(1, 1)) (layer)\n",
    "    layer = Flatten() (layer)\n",
    "    layer = Dense(1,name='out_layer')(layer)\n",
    "    layer = Activation('sigmoid')(layer)\n",
    "    model = Model(inputs=inputs,outputs=layer)\n",
    "    return model"
   ]
  },
  {
   "cell_type": "code",
   "execution_count": 16,
   "metadata": {},
   "outputs": [
    {
     "name": "stdout",
     "output_type": "stream",
     "text": [
      "_________________________________________________________________\n",
      "Layer (type)                 Output Shape              Param #   \n",
      "=================================================================\n",
      "inputs (InputLayer)          (None, 150, 26, 1)        0         \n",
      "_________________________________________________________________\n",
      "conv2d_2 (Conv2D)            (None, 146, 22, 64)       1664      \n",
      "_________________________________________________________________\n",
      "max_pooling2d_2 (MaxPooling2 (None, 145, 21, 64)       0         \n",
      "_________________________________________________________________\n",
      "flatten_1 (Flatten)          (None, 194880)            0         \n",
      "_________________________________________________________________\n",
      "out_layer (Dense)            (None, 1)                 194881    \n",
      "_________________________________________________________________\n",
      "activation_1 (Activation)    (None, 1)                 0         \n",
      "=================================================================\n",
      "Total params: 196,545\n",
      "Trainable params: 196,545\n",
      "Non-trainable params: 0\n",
      "_________________________________________________________________\n"
     ]
    }
   ],
   "source": [
    "model = CharCNN()\n",
    "model.summary()\n",
    "model.compile(loss='binary_crossentropy',optimizer='rmsprop',metrics=['accuracy'])"
   ]
  },
  {
   "cell_type": "code",
   "execution_count": 17,
   "metadata": {},
   "outputs": [
    {
     "name": "stdout",
     "output_type": "stream",
     "text": [
      "Train on 10097 samples, validate on 2525 samples\n",
      "Epoch 1/10\n",
      "10097/10097 [==============================] - 57s 6ms/step - loss: 0.7249 - acc: 0.5675 - val_loss: 0.6781 - val_acc: 0.6139\n",
      "Epoch 2/10\n",
      "10097/10097 [==============================] - 54s 5ms/step - loss: 0.6731 - acc: 0.6063 - val_loss: 0.6901 - val_acc: 0.6139\n"
     ]
    },
    {
     "data": {
      "text/plain": [
       "<keras.callbacks.History at 0x7f5ac2204fd0>"
      ]
     },
     "execution_count": 17,
     "metadata": {},
     "output_type": "execute_result"
    }
   ],
   "source": [
    "model.fit(matrix,Y_train,batch_size=128,epochs=10,\n",
    "          validation_split=0.2,callbacks=[EarlyStopping(monitor='val_loss',min_delta=0.0001)])"
   ]
  },
  {
   "cell_type": "code",
   "execution_count": 36,
   "metadata": {},
   "outputs": [
    {
     "data": {
      "text/plain": [
       "array([0., 0., 0., 0., 0., 0., 0., 0., 0., 0., 0., 0., 0., 0., 0., 0., 0.,\n",
       "       1., 0., 0., 0., 0., 0., 0., 0., 0.])"
      ]
     },
     "execution_count": 36,
     "metadata": {},
     "output_type": "execute_result"
    }
   ],
   "source": [
    "encoded_matrix[0][0]"
   ]
  },
  {
   "cell_type": "code",
   "execution_count": 21,
   "metadata": {},
   "outputs": [],
   "source": [
    "encoded_matrix = []\n",
    "for i in range(0,len(x_test)):\n",
    "    x_test[i] = x_test[i].lower()\n",
    "    x_test[i] = re.sub(\"[^a-z]\", \"\", x_test[i])\n",
    "    sentence = x_test[0]\n",
    "    encoding = np.zeros((150,26))\n",
    "    for i in range(0,len(sentence)):\n",
    "        encoding[i][ord(sentence[i])-97] = 1\n",
    "    encoded_matrix.append(encoding)"
   ]
  },
  {
   "cell_type": "code",
   "execution_count": 22,
   "metadata": {},
   "outputs": [],
   "source": [
    "test_matrix = np.stack(encoded_matrix)\n",
    "test_matrix = test_matrix.reshape(test_matrix.shape[0], 150,26, 1)"
   ]
  },
  {
   "cell_type": "code",
   "execution_count": 24,
   "metadata": {},
   "outputs": [
    {
     "name": "stdout",
     "output_type": "stream",
     "text": [
      "2228/2228 [==============================] - 3s 1ms/step\n"
     ]
    }
   ],
   "source": [
    "accr = model.evaluate(test_matrix,Y_test)"
   ]
  },
  {
   "cell_type": "code",
   "execution_count": 25,
   "metadata": {},
   "outputs": [
    {
     "name": "stdout",
     "output_type": "stream",
     "text": [
      "Test set\n",
      "  Loss: 0.693\n",
      "  Accuracy: 0.387\n"
     ]
    }
   ],
   "source": [
    "print('Test set\\n  Loss: {:0.3f}\\n  Accuracy: {:0.3f}'.format(accr[0],accr[1]))"
   ]
  },
  {
   "cell_type": "code",
   "execution_count": null,
   "metadata": {},
   "outputs": [],
   "source": []
  }
 ],
 "metadata": {
  "kernelspec": {
   "display_name": "Python 3",
   "language": "python",
   "name": "python3"
  },
  "language_info": {
   "codemirror_mode": {
    "name": "ipython",
    "version": 3
   },
   "file_extension": ".py",
   "mimetype": "text/x-python",
   "name": "python",
   "nbconvert_exporter": "python",
   "pygments_lexer": "ipython3",
   "version": "3.5.2"
  }
 },
 "nbformat": 4,
 "nbformat_minor": 2
}
