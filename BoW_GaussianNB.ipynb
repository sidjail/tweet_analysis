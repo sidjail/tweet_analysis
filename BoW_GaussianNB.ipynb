{
 "cells": [
  {
   "cell_type": "code",
   "execution_count": 2,
   "metadata": {},
   "outputs": [],
   "source": [
    "#Importing Libraries\n",
    "import numpy as np\n",
    "import pandas as pd\n",
    "from sklearn.feature_extraction.text import CountVectorizer\n",
    "from sklearn.model_selection import train_test_split\n",
    "from sklearn.naive_bayes import MultinomialNB\n",
    "from sklearn.feature_extraction.text import TfidfVectorizer"
   ]
  },
  {
   "cell_type": "code",
   "execution_count": null,
   "metadata": {},
   "outputs": [],
   "source": [
    "#Reading the csv files and splitting them between train and test with 80-20 ratio respectively\n",
    "gen = pd.read_csv('genuine1.csv')\n",
    "poli = pd.read_csv('Political_Cleaned1.csv')\n",
    "df0 = pd.concat([gen,poli],axis=0,sort=True)\n",
    "df = df0.drop(['count'],axis=1)\n",
    "X_train, X_test, y_train, y_test = train_test_split(df['content'], df['label'], test_size=0.20)"
   ]
  },
  {
   "cell_type": "code",
   "execution_count": null,
   "metadata": {},
   "outputs": [],
   "source": [
    "#Implementing Count Vectorizer  for converting text to features\n",
    "#vectorizer = CountVectorizer(stop_words='english')\n",
    "#vectorizer.fit(X_train.values.astype('U'))\n",
    "#vector = vectorizer.transform(X_train.values.astype('U'))\n",
    "#testVector = vectorizer.transform(X_test.values.astype('U'))\n",
    "#shortTestV = testVector[0:10000]\n",
    "#shortV = vector[0:10000]\n",
    "#from sklearn.naive_bayes import GaussianNB\n",
    "#classifier = GaussianNB()\n",
    "#classifier.fit(shortV.todense(), y_train[0:10000])\n",
    "#y_pred = classifier.predict(shortTestV.todense())\n",
    "#from sklearn import metrics\n",
    "#accu = metrics.accuracy_score(y_test[0:10000],y_pred)\n",
    "#print(accu)\n",
    "#0.6427"
   ]
  },
  {
   "cell_type": "code",
   "execution_count": 24,
   "metadata": {},
   "outputs": [],
   "source": [
    "#Implementing TF-IDF Vectorizer for converting text to features\n",
    "vectorizer = TfidfVectorizer(stop_words='english')\n",
    "vectorizer.fit(X_train.values.astype('U'))\n",
    "vector = vectorizer.transform(X_train.values.astype('U'))\n",
    "testVector = vectorizer.transform(X_test.values.astype('U'))\n",
    "shortTestV = testVector[0:10000]\n",
    "shortV = vector[0:10000]"
   ]
  },
  {
   "cell_type": "code",
   "execution_count": 29,
   "metadata": {},
   "outputs": [
    {
     "data": {
      "text/plain": [
       "GaussianNB(priors=None, var_smoothing=1e-09)"
      ]
     },
     "execution_count": 29,
     "metadata": {},
     "output_type": "execute_result"
    }
   ],
   "source": [
    "#Using Gaussian Naive Bayes as our model\n",
    "from sklearn.naive_bayes import GaussianNB\n",
    "classifier = GaussianNB()\n",
    "classifier.fit(shortV.todense(), y_train[0:10000])"
   ]
  },
  {
   "cell_type": "code",
   "execution_count": 30,
   "metadata": {},
   "outputs": [],
   "source": [
    "y_pred = classifier.predict(shortTestV.todense())"
   ]
  },
  {
   "cell_type": "code",
   "execution_count": 31,
   "metadata": {},
   "outputs": [
    {
     "name": "stdout",
     "output_type": "stream",
     "text": [
      "[[3076  834]\n",
      " [1891 4199]]\n"
     ]
    }
   ],
   "source": [
    "from sklearn.metrics import confusion_matrix\n",
    "cm = confusion_matrix(y_test[0:10000], y_pred)\n",
    "print(cm)\n",
    "from sklearn import metrics\n",
    "accu = metrics.accuracy_score(y_test[0:10000],y_pred)"
   ]
  },
  {
   "cell_type": "code",
   "execution_count": 32,
   "metadata": {},
   "outputs": [
    {
     "name": "stdout",
     "output_type": "stream",
     "text": [
      "0.7275\n"
     ]
    }
   ],
   "source": [
    "print(accu)"
   ]
  }
 ],
 "metadata": {
  "kernelspec": {
   "display_name": "Python 3",
   "language": "python",
   "name": "python3"
  },
  "language_info": {
   "codemirror_mode": {
    "name": "ipython",
    "version": 3
   },
   "file_extension": ".py",
   "mimetype": "text/x-python",
   "name": "python",
   "nbconvert_exporter": "python",
   "pygments_lexer": "ipython3",
   "version": "3.7.1"
  }
 },
 "nbformat": 4,
 "nbformat_minor": 2
}
