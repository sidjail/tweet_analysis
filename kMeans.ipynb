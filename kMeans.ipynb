{
 "cells": [
  {
   "cell_type": "code",
   "execution_count": null,
   "metadata": {},
   "outputs": [],
   "source": [
    "import nltk\n",
    "from nltk import word_tokenize\n",
    "import pandas as pd\n",
    "from sklearn.feature_extraction.text import CountVectorizer\n",
    "from sklearn.cluster import KMeans\n",
    "import numpy as np\n",
    "from gensim.test.utils import common_texts, get_tmpfile\n",
    "from gensim.models import Word2Vec\n",
    "import random"
   ]
  },
  {
   "cell_type": "code",
   "execution_count": null,
   "metadata": {},
   "outputs": [],
   "source": [
    "threshold_count = 5\n",
    "df = pd.read_csv('originalDataset.csv')\n",
    "dfNew = pd.DataFrame(columns = df.columns)\n",
    "dfNew = df.loc[df['count'] >= threshold_count]\n",
    "\n",
    "print(len(dfNew.loc[df['label'] == 1]))\n",
    "print(len(dfNew.loc[df['label'] == 0]))\n",
    "\n",
    "#dfNew.to_csv('dataset.csv')"
   ]
  },
  {
   "cell_type": "code",
   "execution_count": null,
   "metadata": {},
   "outputs": [],
   "source": [
    "labeledTweets = dfNew[['content','label']]\n",
    "print(labeledTweets.loc[:2])\n",
    "labeledTweets = labeledTweets.sample(frac=1).reset_index(drop=True)\n",
    "print(labeledTweets.loc[:2])\n",
    "labeledTweets['content'] = [item.split(\" \") for item in labeledTweets['content']]\n",
    "print(labeledTweets.loc[:2])"
   ]
  },
  {
   "cell_type": "code",
   "execution_count": null,
   "metadata": {},
   "outputs": [],
   "source": [
    "path = get_tmpfile(\"word2vec.model\")\n",
    "model = Word2Vec(labeledTweets['content'], size=50, min_count=1, workers=4)"
   ]
  },
  {
   "cell_type": "code",
   "execution_count": null,
   "metadata": {},
   "outputs": [],
   "source": [
    "trainining_ratio = 0.80\n",
    "training_count  = int(trainining_ratio * len(labeledTweets))\n",
    "train = labeledTweets['content'].loc[:training_count - 1]\n",
    "model.train(train, total_examples=training_count, epochs=20)\n",
    "#model.save(\"word2vec.model\")\n",
    "#v = [np.mean(model.wv[tweet], axis=0) for tweet in m]\n"
   ]
  },
  {
   "cell_type": "code",
   "execution_count": null,
   "metadata": {},
   "outputs": [],
   "source": [
    "#test = labeledTweets.loc[training_count:]\n",
    "vecs = [np.mean(model.wv[x],axis=0) for x in labeledTweets['content']]\n",
    "labeledTweets['vec'] = vecs"
   ]
  },
  {
   "cell_type": "code",
   "execution_count": null,
   "metadata": {},
   "outputs": [],
   "source": [
    "num_clusters = 10\n",
    "kmeans = KMeans(n_clusters=num_clusters).fit(labeledTweets['vec'].loc[:training_count - 1].values.tolist())\n",
    "predictions = kmeans.predict(labeledTweets['vec'].loc[training_count:].values.tolist())\n",
    "print(predictions)\n",
    "print(len(predictions))"
   ]
  },
  {
   "cell_type": "code",
   "execution_count": null,
   "metadata": {},
   "outputs": [],
   "source": [
    "greedyError = 0\n",
    "for i in range(num_clusters):\n",
    "    group = [labeledTweets['label'].loc[training_count+p] for p in range(len(predictions)) if predictions[p] == i]\n",
    "    overallGroupSize = len(group)\n",
    "    genuineCount = sum(group)\n",
    "    greedyError += min(genuineCount,overallGroupSize-genuineCount)\n",
    "    print(\"For cluster \" + str(i) + \": We had overall \" + str(overallGroupSize) + \" points. \" + str(genuineCount) + \" is genuine(\" + str(genuineCount/overallGroupSize)+ \")\")\n",
    "\n",
    "print(\"Greedy Approach yields this Accuracy: \" + str(1 - (greedyError/(len(labeledTweets)-training_count))))"
   ]
  }
 ],
 "metadata": {
  "kernelspec": {
   "display_name": "Python 3",
   "language": "python",
   "name": "python3"
  },
  "language_info": {
   "codemirror_mode": {
    "name": "ipython",
    "version": 3
   },
   "file_extension": ".py",
   "mimetype": "text/x-python",
   "name": "python",
   "nbconvert_exporter": "python",
   "pygments_lexer": "ipython3",
   "version": "3.5.2"
  }
 },
 "nbformat": 4,
 "nbformat_minor": 2
}
