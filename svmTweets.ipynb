{
 "cells": [
  {
   "cell_type": "markdown",
   "metadata": {},
   "source": [
    "A Linear Support Vector Machine is implemented using a stochastic gradient descent."
   ]
  },
  {
   "cell_type": "code",
   "execution_count": 28,
   "metadata": {
    "scrolled": true
   },
   "outputs": [
    {
     "name": "stdout",
     "output_type": "stream",
     "text": [
      "0.8888215488215488\n",
      "              precision    recall  f1-score   support\n",
      "\n",
      "           0       0.87      0.84      0.86     11600\n",
      "           1       0.90      0.92      0.91     18100\n",
      "\n",
      "   micro avg       0.89      0.89      0.89     29700\n",
      "   macro avg       0.88      0.88      0.88     29700\n",
      "weighted avg       0.89      0.89      0.89     29700\n",
      "\n",
      "[[ 9782  1818]\n",
      " [ 1484 16616]]\n"
     ]
    }
   ],
   "source": [
    "import numpy as np\n",
    "import matplotlib.pyplot as plt\n",
    "import pandas as pd\n",
    "from sklearn.model_selection import train_test_split\n",
    "\n",
    "gen = pd.read_csv('genuine.csv')\n",
    "poli = pd.read_csv('political.csv')\n",
    "\n",
    "df0 = pd.concat([gen,poli],axis=0,sort=True)\n",
    "df = df0.drop(['1'],axis=1)\n",
    "\n",
    "\n",
    "\n",
    "X_train, X_test, y_train, y_test = train_test_split(df['content'], df['label'], test_size=0.20)\n",
    "from sklearn.feature_extraction.text import CountVectorizer\n",
    "from sklearn.pipeline import Pipeline\n",
    "from sklearn.feature_extraction.text import TfidfTransformer\n",
    "from sklearn.pipeline import Pipeline\n",
    "from sklearn.linear_model import SGDClassifier\n",
    "text_clf = Pipeline([\n",
    "    ('vect',CountVectorizer()),\n",
    "    ('tfidf',TfidfTransformer()),\n",
    "    ('clf',SGDClassifier(loss='hinge',penalty = 'l2')),\n",
    "])\n",
    "text_clf.fit(X_train.values.astype('U'),y_train)\n",
    "predicted = text_clf.predict(X_test.values.astype('U'))\n",
    "print(np.mean(predicted==y_test))\n",
    "\n",
    "from sklearn import metrics\n",
    "print(metrics.classification_report(y_test,predicted))\n",
    "print(metrics.confusion_matrix(y_test,predicted))\n"
   ]
  },
  {
   "cell_type": "code",
   "execution_count": null,
   "metadata": {},
   "outputs": [],
   "source": [
    "from sklearn import svm\n",
    "from sklearn.model_selection import KFold\n",
    "kf = KFold(5,True,2)\n",
    "result = next(kf.split(df), None)\n",
    "print (result)\n",
    "\n",
    "#train = df.iloc[result[0]]\n",
    "#test =  df.iloc[result[1]]"
   ]
  },
  {
   "cell_type": "markdown",
   "metadata": {},
   "source": [
    "The above is a code snippet that will eventually be used to implement KFold cross validation on the data frame."
   ]
  }
 ],
 "metadata": {
  "kernelspec": {
   "display_name": "Python 3",
   "language": "python",
   "name": "python3"
  },
  "language_info": {
   "codemirror_mode": {
    "name": "ipython",
    "version": 3
   },
   "file_extension": ".py",
   "mimetype": "text/x-python",
   "name": "python",
   "nbconvert_exporter": "python",
   "pygments_lexer": "ipython3",
   "version": "3.7.1"
  }
 },
 "nbformat": 4,
 "nbformat_minor": 2
}
