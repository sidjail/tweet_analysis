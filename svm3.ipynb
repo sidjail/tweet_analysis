{
 "cells": [
  {
   "cell_type": "markdown",
   "metadata": {},
   "source": [
    "First Cell involved importing the two datasets, merging them into one dataframe, shuffling the data\n",
    "and partitioning the data into training and test data with a 0.20 test proportion. Both the training and test data are further partitioned into X and y components, denoting each entries (tweets) and labels (0 or 1) respectively."
   ]
  },
  {
   "cell_type": "code",
   "execution_count": 1,
   "metadata": {},
   "outputs": [],
   "source": [
    "import numpy as np\n",
    "import matplotlib.pyplot as plt\n",
    "import pandas as pd\n",
    "from sklearn.model_selection import train_test_split\n",
    "\n",
    "gen = pd.read_csv('genuine1.csv')\n",
    "poli = pd.read_csv('Political_Cleaned1.csv')\n",
    "df0 = pd.concat([gen,poli],axis=0,sort=True)\n",
    "df = df0.drop(['1'],axis=1)\n",
    "X_train, X_test, y_train, y_test = train_test_split(df['content'], df['label'], test_size=0.20)\n"
   ]
  },
  {
   "cell_type": "markdown",
   "metadata": {},
   "source": [
    "Next we apply feature extraction to the X data. To do this we use a TfidfVectorizer which extracts a word dictionary from the data and creates a sparse matrix where for each row (data entry) we have the column indicating the prevelance of a specific word. The term frequency–inverse document frequency makes it so that rare words are weighted higher than frequent ones. Our new features allow us to work numerically since X has been tranformed from rows of tweets into rows of floating point numbers."
   ]
  },
  {
   "cell_type": "code",
   "execution_count": 9,
   "metadata": {},
   "outputs": [],
   "source": [
    "from sklearn.feature_extraction.text import TfidfVectorizer\n",
    "vectorizer = TfidfVectorizer()\n",
    "vectorizer.fit(X_train.values.astype('U'))\n",
    "vector = vectorizer.transform(X_train.values.astype('U'))\n",
    "testVector = vectorizer.transform(X_train.values.astype('U'))\n",
    "shortTestV = testVector[0:10000]\n",
    "shortV = vector[0:10000]"
   ]
  },
  {
   "cell_type": "markdown",
   "metadata": {},
   "source": [
    "The large dataset and the variety of words (66,145) create a very sparse matrix. So we use TruncatedSVD, in this context a form of LSA (Latent Semantic Analysis). This allows us to reduce the dimension to the specified number of components."
   ]
  },
  {
   "cell_type": "code",
   "execution_count": null,
   "metadata": {},
   "outputs": [],
   "source": [
    "from sklearn.decomposition import TruncatedSVD\n",
    "tsvd = TruncatedSVD(n_components=5000, n_iter=10, random_state=32)\n",
    "vector_reduced = tsvd.fit_transform(shortV)\n",
    "tsvd.explained_variance_ratio_[0:5000].sum()\n",
    "testvector_reduced = tsvd.fit_transform(shortTestV)"
   ]
  },
  {
   "cell_type": "markdown",
   "metadata": {},
   "source": [
    "Next we apply a linear Support Vector Machine on the reduced data."
   ]
  },
  {
   "cell_type": "code",
   "execution_count": null,
   "metadata": {},
   "outputs": [],
   "source": [
    "from sklearn import svm\n",
    "clf = svm.SVC(kernel = 'linear')\n",
    "clf.fit(vector_reduced,y_train[0:10000])\n",
    "p = clf.predict(shortTestV)\n",
    "from sklearn import metrics\n",
    "acc = metrics.accuracy_score(y_test[0:10000],p)\n",
    "print(acc)\n",
    "cm = metrics.confusion_matrix(y_test[0:10000],p)\n",
    "print(cm)"
   ]
  },
  {
   "cell_type": "code",
   "execution_count": null,
   "metadata": {},
   "outputs": [],
   "source": []
  }
 ],
 "metadata": {
  "kernelspec": {
   "display_name": "Python 3",
   "language": "python",
   "name": "python3"
  },
  "language_info": {
   "codemirror_mode": {
    "name": "ipython",
    "version": 3
   },
   "file_extension": ".py",
   "mimetype": "text/x-python",
   "name": "python",
   "nbconvert_exporter": "python",
   "pygments_lexer": "ipython3",
   "version": "3.7.3"
  }
 },
 "nbformat": 4,
 "nbformat_minor": 2
}
